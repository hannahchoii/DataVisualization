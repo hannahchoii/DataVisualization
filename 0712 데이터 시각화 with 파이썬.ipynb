{
 "cells": [
  {
   "cell_type": "markdown",
   "metadata": {},
   "source": [
    "## 【데이터 시각화 with 파이썬】"
   ]
  },
  {
   "cell_type": "markdown",
   "metadata": {},
   "source": [
    "### ■ matplotlib 라이브러리 특징\n",
    "#### ● 파이썬에서 사용 가능한 그래프를 그려주는 모듈\n",
    "#### ● 표준 플롯을 쉽게 그릴 수 있을 뿐만 아니라 복잡한 플롯과 세부적인 변경도 자유로운 유연한 라이브러리\n",
    "#### ● line plot, bar chart, pie chart, histogram, box plot, scatter plot 등을 비롯하여 다양한 차트와 플롯 스타일을 지원\n",
    "#### ● Numpy 및 pandas(Serise, DataFrame)가 제공하는 자료들과 연동 용이"
   ]
  },
  {
   "cell_type": "code",
   "execution_count": 1,
   "metadata": {},
   "outputs": [],
   "source": [
    "import numpy as np\n",
    "import pandas as pd\n",
    "import matplotlib.pyplot as plt"
   ]
  },
  {
   "cell_type": "markdown",
   "metadata": {},
   "source": [
    "### ■ 꺽은 선 그래프\n",
    "### 1) 특징\n",
    "#### ● 시간에 따른 데이터의 연속적인 변화량을 관찰하고자 할 때 자주 사용되는 그래프\n",
    "#### ● 조사하지 않은 중간의 값도 대략적으로 예측 가능함\n",
    "#### ● 연속적인 수량의 변화를 단적으로 보여줌\n",
    "#### ● 수량을 점으로 표현함\n",
    "#### ● 점과 점 사이를 선분으로 이어 선분의 기울기로 변화의 정도를 알아보기 편리함\n",
    "#### ● 관찰 대상의 추이를 비교하거나, 추세를 관찰하는 경우 많이 사용함\n",
    "### 2) 사용예시\n",
    "#### ● 24시간 동안 매시간의 온도의 변화량\n",
    "#### ● 연도별 수출액의 변화량\n",
    "#### ● 자동차 교통 사고량\n",
    "#### ● 월별 사과의 생산량의 변화"
   ]
  },
  {
   "cell_type": "code",
   "execution_count": 2,
   "metadata": {},
   "outputs": [
    {
     "name": "stdout",
     "output_type": "stream",
     "text": [
      "Index(['4월06일', '4월07일', '4월08일', '4월09일', '4월10일', '4월11일', '4월12일'], dtype='object')\n",
      "       4월06일   4월07일   4월08일   4월09일   4월10일   4월11일   4월12일\n",
      "국가                                                          \n",
      "미국    335524  364723  387547  424945  461437  495535  524903\n",
      "스페인   130709  135032  140510  146690  152446  157022  161852\n",
      "이탈리아  128948  132547  135586  139422  143626  147577  152271\n",
      "독일    100024  102453  107591  112113  118181  122171  124908\n",
      "프랑스    70478   74390   78167   82048   86334   90276   93790\n",
      "중국     81708   81740   81802   81865   81907   81953   82052\n",
      "영국     47806   51608   55242   60733   65077   73758   78991\n",
      "이란     58226   60500   62589   64586   66220   68192   70029\n",
      "스위스    21104   21652   22241   22789   23574   24308   24900\n",
      "한국     10284   10331   10384   10423   10450   10480   10512\n"
     ]
    }
   ],
   "source": [
    "plt.rc('font', family='Malgun Gothic')\n",
    "\n",
    "data = pd.read_csv('C:/Users/user/Desktop/Mydata Unit/데이터시각화_소스(아이콕스)/data/주요발생국가주간동향(4월2째주).csv', index_col = '국가')\n",
    "print(data.columns)\n",
    "print(data)"
   ]
  },
  {
   "cell_type": "code",
   "execution_count": 3,
   "metadata": {},
   "outputs": [
    {
     "name": "stdout",
     "output_type": "stream",
     "text": [
      "국가\n",
      "미국      335524\n",
      "스페인     130709\n",
      "이탈리아    128948\n",
      "독일      100024\n",
      "프랑스      70478\n",
      "중국       81708\n",
      "영국       47806\n",
      "이란       58226\n",
      "스위스      21104\n",
      "한국       10284\n",
      "Name: 4월06일, dtype: int64\n"
     ]
    }
   ],
   "source": [
    "chartdata = data['4월06일']\n",
    "print(chartdata)"
   ]
  },
  {
   "cell_type": "code",
   "execution_count": 4,
   "metadata": {},
   "outputs": [
    {
     "data": {
      "text/plain": [
       "([<matplotlib.axis.YTick at 0x2cdc5f3b048>,\n",
       "  <matplotlib.axis.YTick at 0x2cdc6a3dc18>,\n",
       "  <matplotlib.axis.YTick at 0x2cdc638cda0>,\n",
       "  <matplotlib.axis.YTick at 0x2cdc6a6b550>,\n",
       "  <matplotlib.axis.YTick at 0x2cdc6a6bac8>,\n",
       "  <matplotlib.axis.YTick at 0x2cdc6a770f0>,\n",
       "  <matplotlib.axis.YTick at 0x2cdc6a775f8>,\n",
       "  <matplotlib.axis.YTick at 0x2cdc6a77b70>],\n",
       " <a list of 8 Text yticklabel objects>)"
      ]
     },
     "execution_count": 4,
     "metadata": {},
     "output_type": "execute_result"
    },
    {
     "data": {
      "image/png": "[encoded data removed]",
      "text/plain": [
       "<Figure size 432x288 with 1 Axes>"
      ]
     },
     "metadata": {
      "needs_background": "light"
     },
     "output_type": "display_data"
    }
   ],
   "source": [
    "###y축 간격 설정 후 콤마 유형 지정\n",
    "yticks_interval = 50000\n",
    "maxlim = (int(chartdata.max() / yticks_interval) + 1) * yticks_interval\n",
    "values = np.arange(0, maxlim + 1, yticks_interval)\n",
    "plt.yticks(values, ['%s' % format(val, ',') for val in values])"
   ]
  },
  {
   "cell_type": "code",
   "execution_count": 5,
   "metadata": {},
   "outputs": [
    {
     "data": {
      "image/png": "[encoded data removed]",
      "text/plain": [
       "<Figure size 432x288 with 1 Axes>"
      ]
     },
     "metadata": {
      "needs_background": "light"
     },
     "output_type": "display_data"
    }
   ],
   "source": [
    "plt.plot(chartdata, color = 'blue', linestyle = 'solid', marker = 'o')\n",
    "plt.grid(True)\n",
    "plt.xlabel('국가명')   ###x축 레이블 지정\n",
    "plt.ylabel(\"발생 건수\")   ###y축 레이블 지정\n",
    "plt.title('4월 6일 코로나 발생 건수')   ###x,y 그래프 타이틀 지정\n",
    "plt.yticks(values, ['%s' % format(val, ',') for val in values])\n",
    "plt.show()"
   ]
  },
  {
   "cell_type": "markdown",
   "metadata": {},
   "source": [
    "### [실습001] 특정 국가의 특정 일자에 대한 꺽은 선 그래프"
   ]
  },
  {
   "cell_type": "code",
   "execution_count": 6,
   "metadata": {},
   "outputs": [
    {
     "name": "stdout",
     "output_type": "stream",
     "text": [
      "국가        스페인    프랑스      독일     중국     영국     이란\n",
      "4월06일  130709  70478  100024  81708  47806  58226\n",
      "4월07일  135032  74390  102453  81740  51608  60500\n",
      "4월08일  140510  78167  107591  81802  55242  62589\n",
      "4월09일  146690  82048  112113  81865  60733  64586\n",
      "4월10일  152446  86334  118181  81907  65077  66220\n"
     ]
    }
   ],
   "source": [
    "country = ['스페인', '프랑스', '독일', '중국', '영국', '이란']\n",
    "when = ['4월06일', '4월07일', '4월08일', '4월09일', '4월10일']\n",
    "chartdata = data.loc[country, when]\n",
    "chartdata = chartdata.T\n",
    "print(chartdata)"
   ]
  },
  {
   "cell_type": "code",
   "execution_count": 7,
   "metadata": {},
   "outputs": [
    {
     "data": {
      "image/png": "[encoded data removed]",
      "text/plain": [
       "<Figure size 720x432 with 1 Axes>"
      ]
     },
     "metadata": {
      "needs_background": "light"
     },
     "output_type": "display_data"
    }
   ],
   "source": [
    "chartdata.plot(title='SomeTitle', figsize=(10,6), legend=True, marker='o', rot=0)\n",
    "plt.grid(True)\n",
    "plt.xlabel('일자')\n",
    "plt.ylabel('국가명')\n",
    "plt.title('일자별 국가명 꺽은 선')\n",
    "plt.show()"
   ]
  },
  {
   "cell_type": "markdown",
   "metadata": {},
   "source": [
    "### [실습002] 이중 축 꺽은 선 그래프"
   ]
  },
  {
   "cell_type": "code",
   "execution_count": 8,
   "metadata": {},
   "outputs": [
    {
     "name": "stdout",
     "output_type": "stream",
     "text": [
      "<class 'pandas.core.frame.DataFrame'>\n",
      "RangeIndex: 100 entries, 0 to 99\n",
      "Data columns (total 8 columns):\n",
      " #   Column      Non-Null Count  Dtype  \n",
      "---  ------      --------------  -----  \n",
      " 0   Unnamed: 0  100 non-null    int64  \n",
      " 1   total_bill  100 non-null    float64\n",
      " 2   tip         100 non-null    float64\n",
      " 3   sex         100 non-null    object \n",
      " 4   smoker      100 non-null    object \n",
      " 5   day         100 non-null    object \n",
      " 6   time        100 non-null    object \n",
      " 7   size        100 non-null    int64  \n",
      "dtypes: float64(2), int64(2), object(4)\n",
      "memory usage: 6.4+ KB\n",
      "None\n"
     ]
    }
   ],
   "source": [
    "myframe = pd.read_csv('C:/Users/user/Desktop/Mydata Unit/데이터시각화_소스(아이콕스)/data/tips.csv')\n",
    "myframe = myframe.head(100)\n",
    "print(myframe.info())"
   ]
  },
  {
   "cell_type": "code",
   "execution_count": 9,
   "metadata": {},
   "outputs": [
    {
     "name": "stdout",
     "output_type": "stream",
     "text": [
      "       Unnamed: 0  total_bill         tip        size\n",
      "count  100.000000  100.000000  100.000000  100.000000\n",
      "mean    49.500000   19.616700    3.059000    2.520000\n",
      "std     29.011492    7.917297    1.287689    0.822413\n",
      "min      0.000000    3.070000    1.000000    1.000000\n",
      "25%     24.750000   14.817500    2.007500    2.000000\n",
      "50%     49.500000   18.160000    3.000000    2.000000\n",
      "75%     74.250000   22.990000    3.602500    3.000000\n",
      "max     99.000000   48.270000    7.580000    4.000000\n",
      "100\n"
     ]
    }
   ],
   "source": [
    "print(myframe.describe())   ###결측치(Nan) 제외 후, 요약된 통계량을 보여주는 함수\n",
    "print(len(myframe))"
   ]
  },
  {
   "cell_type": "code",
   "execution_count": 10,
   "metadata": {},
   "outputs": [],
   "source": [
    "xrange = range(len(myframe))\n",
    "data_bill = myframe.loc[:, ['total_bill']]\n",
    "data_tip = myframe.loc[:, ['tip']]"
   ]
  },
  {
   "cell_type": "code",
   "execution_count": 11,
   "metadata": {},
   "outputs": [
    {
     "data": {
      "image/png": "[encoded data removed]",
      "text/plain": [
       "<Figure size 432x288 with 2 Axes>"
      ]
     },
     "metadata": {
      "needs_background": "light"
     },
     "output_type": "display_data"
    }
   ],
   "source": [
    "fig, ax1 = plt.subplots()\n",
    "ax1.set_title('결재 금액과 Tip(이중 축)')\n",
    "\n",
    "color = 'tab:red'\n",
    "\n",
    "ax1.set_ylabel('결재 금액', color=color)   ###y축에 놓는 레이블 지정\n",
    "ax1.plot(xrange, data_bill, color=color)\n",
    "ax1.tick_params(axis='y', labelcolor=color)   ###y축에 대한 색상을 지정\n",
    "\n",
    "ax2 = ax1.twinx()   ###동일한 x축을 공유하는 두번째 y축을 생성\n",
    "\n",
    "color = 'tab:blue'\n",
    "ax2.set_ylabel('팁(tip)', color=color)\n",
    "ax2.plot(xrange, data_tip, color=color)\n",
    "ax2.tick_params(axis='y', labelcolor=color)\n",
    "\n",
    "fig.tight_layout()\n",
    "plt.show()"
   ]
  },
  {
   "cell_type": "markdown",
   "metadata": {},
   "source": [
    "### ■ 산점도 그래프\n",
    "### 1) 특징\n",
    "#### ● 2개의 연속형 변수 간 관계(영향력)를 보기 위해 직교 좌표의 x축과 y축에 관측점을 찍어서 만든 그래프\n",
    "#### ● 산점도에 표시 되는 각 점들은 자료의 관측값을 의미함\n",
    "#### ● 산점도에서 각 점의 위치는 각 관측값이 가지는 x축, y축 변수의 값으로 결정됨\n",
    "### 2) 사용예시\n",
    "#### ● 나이와 소득에 대한 상호 관련성"
   ]
  },
  {
   "cell_type": "code",
   "execution_count": 12,
   "metadata": {},
   "outputs": [
    {
     "name": "stdout",
     "output_type": "stream",
     "text": [
      "스타일 목록\n",
      "['bmh', 'classic', 'dark_background', 'fast', 'fivethirtyeight', 'ggplot', 'grayscale', 'seaborn-bright', 'seaborn-colorblind', 'seaborn-dark-palette', 'seaborn-dark', 'seaborn-darkgrid', 'seaborn-deep', 'seaborn-muted', 'seaborn-notebook', 'seaborn-paper', 'seaborn-pastel', 'seaborn-poster', 'seaborn-talk', 'seaborn-ticks', 'seaborn-white', 'seaborn-whitegrid', 'seaborn', 'Solarize_Light2', 'tableau-colorblind10', '_classic_test']\n"
     ]
    }
   ],
   "source": [
    "plt.rc('font', family='Malgun Gothic')\n",
    "plt.style.use('ggplot')   ###'ggplot' 형식의 스타일 사용\n",
    "print('스타일 목록')\n",
    "print(plt.style.available)"
   ]
  },
  {
   "cell_type": "code",
   "execution_count": 13,
   "metadata": {},
   "outputs": [
    {
     "name": "stdout",
     "output_type": "stream",
     "text": [
      "  manufacturer model  displ  year  cyl       trans drv  cty  hwy fl    class\n",
      "0         audi    a4    1.8  1999    4    auto(l5)   f   18   29  p  compact\n",
      "1         audi    a4    1.8  1999    4  manual(m5)   f   21   29  p  compact\n",
      "2         audi    a4    2.0  2008    4  manual(m6)   f   20   31  p  compact\n",
      "3         audi    a4    2.0  2008    4    auto(av)   f   21   30  p  compact\n",
      "4         audi    a4    2.8  1999    6    auto(l5)   f   16   26  p  compact\n",
      "<class 'pandas.core.frame.DataFrame'>\n",
      "RangeIndex: 234 entries, 0 to 233\n",
      "Data columns (total 11 columns):\n",
      " #   Column        Non-Null Count  Dtype  \n",
      "---  ------        --------------  -----  \n",
      " 0   manufacturer  234 non-null    object \n",
      " 1   model         234 non-null    object \n",
      " 2   displ         234 non-null    float64\n",
      " 3   year          234 non-null    int64  \n",
      " 4   cyl           234 non-null    int64  \n",
      " 5   trans         234 non-null    object \n",
      " 6   drv           234 non-null    object \n",
      " 7   cty           234 non-null    int64  \n",
      " 8   hwy           234 non-null    int64  \n",
      " 9   fl            234 non-null    object \n",
      " 10  class         234 non-null    object \n",
      "dtypes: float64(1), int64(4), object(6)\n",
      "memory usage: 20.2+ KB\n",
      "None\n"
     ]
    }
   ],
   "source": [
    "mpg = pd.read_csv('C:/Users/user/Desktop/Mydata Unit/데이터시각화_소스(아이콕스)/data/mpg.csv', encoding='UTF-8')\n",
    "\n",
    "print(mpg.head())\n",
    "print(mpg.info())"
   ]
  },
  {
   "cell_type": "markdown",
   "metadata": {},
   "source": [
    "### [실습003] 엔진 크기에 대한 주행 마일수의 산점도 그래프"
   ]
  },
  {
   "cell_type": "code",
   "execution_count": 14,
   "metadata": {},
   "outputs": [
    {
     "data": {
      "image/png": "[encoded data removed]",
      "text/plain": [
       "<Figure size 432x288 with 1 Axes>"
      ]
     },
     "metadata": {},
     "output_type": "display_data"
    }
   ],
   "source": [
    "xdata= mpg.loc[:, ['displ']]\n",
    "ydata= mpg.loc[:, ['hwy']]\n",
    "\n",
    "plt.figure()\n",
    "plt.plot(xdata, ydata, marker='o', linestyle='None')\n",
    "plt.xlabel(\"엔진 크기\")\n",
    "plt.ylabel(\"주행 마일수\")\n",
    "plt.title(\"산점도 그래프\")\n",
    "plt.grid(True)\n",
    "\n",
    "plt.show()"
   ]
  },
  {
   "cell_type": "markdown",
   "metadata": {},
   "source": [
    "### [실습004] 구동 방식에 의한 색상 구분하기"
   ]
  },
  {
   "cell_type": "code",
   "execution_count": 15,
   "metadata": {},
   "outputs": [],
   "source": [
    "mycolors = ['r', 'g', 'b']\n",
    "label_dict = {'f':'전륜 구동', '4':'사륜 구동', 'r':'후륜 구동'}"
   ]
  },
  {
   "cell_type": "code",
   "execution_count": 16,
   "metadata": {},
   "outputs": [
    {
     "data": {
      "image/png": "[encoded data removed]",
      "text/plain": [
       "<Figure size 432x288 with 1 Axes>"
      ]
     },
     "metadata": {},
     "output_type": "display_data"
    }
   ],
   "source": [
    "plt.figure()\n",
    "\n",
    "idx = 0   ###색상 구분을 위한 카운터 변수 지정\n",
    "labels = mpg['drv'].unique()\n",
    "\n",
    "for finditem in labels:\n",
    "    xdata = mpg.loc[mpg['drv'] == finditem, 'displ']\n",
    "    ydata = mpg.loc[mpg['drv'] == finditem, 'hwy']\n",
    "    plt.plot(xdata, ydata, color = mycolors[idx], marker = 'o', linestyle = 'None', label = label_dict[finditem])\n",
    "    idx += 1\n",
    "plt.legend()\n",
    "plt.xlabel(\"엔진 크기\")\n",
    "plt.ylabel(\"주행 마일수\")\n",
    "\n",
    "plt.show()"
   ]
  },
  {
   "cell_type": "markdown",
   "metadata": {},
   "source": [
    "### [실습005] 산점도와 히스토그램 동시에 그리기"
   ]
  },
  {
   "cell_type": "code",
   "execution_count": 17,
   "metadata": {},
   "outputs": [
    {
     "data": {
      "image/png": "[encoded data removed]",
      "text/plain": [
       "<Figure size 1280x800 with 3 Axes>"
      ]
     },
     "metadata": {},
     "output_type": "display_data"
    }
   ],
   "source": [
    "fig = plt.figure(figsize=(16,10), dpi=80)\n",
    "grid = plt.GridSpec(4, 4, hspace=0.5, wspace=0.2)\n",
    "\n",
    "###축 정의\n",
    "ax_main = fig.add_subplot(grid[:-1, :-1])\n",
    "ax_right = fig.add_subplot(grid[:-1, -1], xticklabels=[], yticklabels=[])\n",
    "ax_bottom = fig.add_subplot(grid[-1, 0:-1], xticklabels=[], yticklabels=[])\n",
    "\n",
    "###메인 그래프에 산점도 생성\n",
    "ax_main.scatter('displ', 'hwy', s=mpg.cty*4, c=mpg.manufacturer.astype('category').cat.codes\n",
    "                , alpha=.9, data=mpg, cmap=\"tab10\", edgecolors='gray', linewidths=.5)\n",
    "\n",
    "###하단 히스토그램 생성\n",
    "ax_bottom.hist(mpg.displ, 40, histtype='stepfilled', orientation='vertical', color='lightpink')\n",
    "ax_bottom.invert_yaxis()\n",
    "\n",
    "###우축 히스토그램 생성\n",
    "ax_right.hist(mpg.hwy, 40, histtype='stepfilled', orientation='horizontal', color='lightblue')\n",
    "\n",
    "ax_main.set(title ='산점도(엔진의 크기 vs 주행 마일수)', xlabel='엔진의 크기', ylabel='주행 마일수')\n",
    "ax_main.title.set_fontsize(20)\n",
    "for item in ([ax_main.xaxis.label, ax_main.yaxis.label] + ax_main.get_xticklabels() + ax_main.get_yticklabels()):\n",
    "    item.set_fontsize(14)"
   ]
  },
  {
   "cell_type": "markdown",
   "metadata": {},
   "source": [
    "### [실습006] 다이어몬드 데이터 셋과 산점도"
   ]
  },
  {
   "cell_type": "code",
   "execution_count": 18,
   "metadata": {},
   "outputs": [
    {
     "data": {
      "text/html": [
       "<div>\n",
       "<style scoped>\n",
       "    .dataframe tbody tr th:only-of-type {\n",
       "        vertical-align: middle;\n",
       "    }\n",
       "\n",
       "    .dataframe tbody tr th {\n",
       "        vertical-align: top;\n",
       "    }\n",
       "\n",
       "    .dataframe thead th {\n",
       "        text-align: right;\n",
       "    }\n",
       "</style>\n",
       "<table border=\"1\" class=\"dataframe\">\n",
       "  <thead>\n",
       "    <tr style=\"text-align: right;\">\n",
       "      <th></th>\n",
       "      <th>carat</th>\n",
       "      <th>cut</th>\n",
       "      <th>color</th>\n",
       "      <th>clarity</th>\n",
       "      <th>depth</th>\n",
       "      <th>table</th>\n",
       "      <th>price</th>\n",
       "      <th>x</th>\n",
       "      <th>y</th>\n",
       "      <th>z</th>\n",
       "    </tr>\n",
       "  </thead>\n",
       "  <tbody>\n",
       "    <tr>\n",
       "      <th>0</th>\n",
       "      <td>0.23</td>\n",
       "      <td>Ideal</td>\n",
       "      <td>E</td>\n",
       "      <td>SI2</td>\n",
       "      <td>61.5</td>\n",
       "      <td>55.0</td>\n",
       "      <td>326</td>\n",
       "      <td>3.95</td>\n",
       "      <td>3.98</td>\n",
       "      <td>2.43</td>\n",
       "    </tr>\n",
       "    <tr>\n",
       "      <th>1</th>\n",
       "      <td>0.21</td>\n",
       "      <td>Premium</td>\n",
       "      <td>E</td>\n",
       "      <td>SI1</td>\n",
       "      <td>59.8</td>\n",
       "      <td>61.0</td>\n",
       "      <td>326</td>\n",
       "      <td>3.89</td>\n",
       "      <td>3.84</td>\n",
       "      <td>2.31</td>\n",
       "    </tr>\n",
       "    <tr>\n",
       "      <th>2</th>\n",
       "      <td>0.23</td>\n",
       "      <td>Good</td>\n",
       "      <td>E</td>\n",
       "      <td>VS1</td>\n",
       "      <td>56.9</td>\n",
       "      <td>65.0</td>\n",
       "      <td>327</td>\n",
       "      <td>4.05</td>\n",
       "      <td>4.07</td>\n",
       "      <td>2.31</td>\n",
       "    </tr>\n",
       "    <tr>\n",
       "      <th>3</th>\n",
       "      <td>0.29</td>\n",
       "      <td>Premium</td>\n",
       "      <td>I</td>\n",
       "      <td>VS2</td>\n",
       "      <td>62.4</td>\n",
       "      <td>58.0</td>\n",
       "      <td>334</td>\n",
       "      <td>4.20</td>\n",
       "      <td>4.23</td>\n",
       "      <td>2.63</td>\n",
       "    </tr>\n",
       "    <tr>\n",
       "      <th>4</th>\n",
       "      <td>0.31</td>\n",
       "      <td>Good</td>\n",
       "      <td>J</td>\n",
       "      <td>SI2</td>\n",
       "      <td>63.3</td>\n",
       "      <td>58.0</td>\n",
       "      <td>335</td>\n",
       "      <td>4.34</td>\n",
       "      <td>4.35</td>\n",
       "      <td>2.75</td>\n",
       "    </tr>\n",
       "    <tr>\n",
       "      <th>...</th>\n",
       "      <td>...</td>\n",
       "      <td>...</td>\n",
       "      <td>...</td>\n",
       "      <td>...</td>\n",
       "      <td>...</td>\n",
       "      <td>...</td>\n",
       "      <td>...</td>\n",
       "      <td>...</td>\n",
       "      <td>...</td>\n",
       "      <td>...</td>\n",
       "    </tr>\n",
       "    <tr>\n",
       "      <th>53935</th>\n",
       "      <td>0.72</td>\n",
       "      <td>Ideal</td>\n",
       "      <td>D</td>\n",
       "      <td>SI1</td>\n",
       "      <td>60.8</td>\n",
       "      <td>57.0</td>\n",
       "      <td>2757</td>\n",
       "      <td>5.75</td>\n",
       "      <td>5.76</td>\n",
       "      <td>3.50</td>\n",
       "    </tr>\n",
       "    <tr>\n",
       "      <th>53936</th>\n",
       "      <td>0.72</td>\n",
       "      <td>Good</td>\n",
       "      <td>D</td>\n",
       "      <td>SI1</td>\n",
       "      <td>63.1</td>\n",
       "      <td>55.0</td>\n",
       "      <td>2757</td>\n",
       "      <td>5.69</td>\n",
       "      <td>5.75</td>\n",
       "      <td>3.61</td>\n",
       "    </tr>\n",
       "    <tr>\n",
       "      <th>53937</th>\n",
       "      <td>0.70</td>\n",
       "      <td>Very Good</td>\n",
       "      <td>D</td>\n",
       "      <td>SI1</td>\n",
       "      <td>62.8</td>\n",
       "      <td>60.0</td>\n",
       "      <td>2757</td>\n",
       "      <td>5.66</td>\n",
       "      <td>5.68</td>\n",
       "      <td>3.56</td>\n",
       "    </tr>\n",
       "    <tr>\n",
       "      <th>53938</th>\n",
       "      <td>0.86</td>\n",
       "      <td>Premium</td>\n",
       "      <td>H</td>\n",
       "      <td>SI2</td>\n",
       "      <td>61.0</td>\n",
       "      <td>58.0</td>\n",
       "      <td>2757</td>\n",
       "      <td>6.15</td>\n",
       "      <td>6.12</td>\n",
       "      <td>3.74</td>\n",
       "    </tr>\n",
       "    <tr>\n",
       "      <th>53939</th>\n",
       "      <td>0.75</td>\n",
       "      <td>Ideal</td>\n",
       "      <td>D</td>\n",
       "      <td>SI2</td>\n",
       "      <td>62.2</td>\n",
       "      <td>55.0</td>\n",
       "      <td>2757</td>\n",
       "      <td>5.83</td>\n",
       "      <td>5.87</td>\n",
       "      <td>3.64</td>\n",
       "    </tr>\n",
       "  </tbody>\n",
       "</table>\n",
       "<p>53940 rows × 10 columns</p>\n",
       "</div>"
      ],
      "text/plain": [
       "       carat        cut color clarity  depth  table  price     x     y     z\n",
       "0       0.23      Ideal     E     SI2   61.5   55.0    326  3.95  3.98  2.43\n",
       "1       0.21    Premium     E     SI1   59.8   61.0    326  3.89  3.84  2.31\n",
       "2       0.23       Good     E     VS1   56.9   65.0    327  4.05  4.07  2.31\n",
       "3       0.29    Premium     I     VS2   62.4   58.0    334  4.20  4.23  2.63\n",
       "4       0.31       Good     J     SI2   63.3   58.0    335  4.34  4.35  2.75\n",
       "...      ...        ...   ...     ...    ...    ...    ...   ...   ...   ...\n",
       "53935   0.72      Ideal     D     SI1   60.8   57.0   2757  5.75  5.76  3.50\n",
       "53936   0.72       Good     D     SI1   63.1   55.0   2757  5.69  5.75  3.61\n",
       "53937   0.70  Very Good     D     SI1   62.8   60.0   2757  5.66  5.68  3.56\n",
       "53938   0.86    Premium     H     SI2   61.0   58.0   2757  6.15  6.12  3.74\n",
       "53939   0.75      Ideal     D     SI2   62.2   55.0   2757  5.83  5.87  3.64\n",
       "\n",
       "[53940 rows x 10 columns]"
      ]
     },
     "execution_count": 18,
     "metadata": {},
     "output_type": "execute_result"
    }
   ],
   "source": [
    "diamonds = pd.read_csv('C:/Users/user/Desktop/Mydata Unit/데이터시각화_소스(아이콕스)/data/diamonds.csv')\n",
    "diamonds"
   ]
  },
  {
   "cell_type": "code",
   "execution_count": 19,
   "metadata": {},
   "outputs": [
    {
     "name": "stdout",
     "output_type": "stream",
     "text": [
      "Index(['carat', 'cut', 'color', 'clarity', 'depth', 'table', 'price', 'x', 'y',\n",
      "       'z'],\n",
      "      dtype='object')\n",
      "            carat       depth       table         price           x  \\\n",
      "count  270.000000  270.000000  270.000000    270.000000  270.000000   \n",
      "mean     0.758185   61.768889   57.342963   3666.603704    5.642444   \n",
      "std      0.457368    1.387114    2.386955   3995.988735    1.082677   \n",
      "min      0.240000   55.500000   52.000000    435.000000    4.020000   \n",
      "25%      0.400000   61.100000   56.000000    953.500000    4.730000   \n",
      "50%      0.585000   61.900000   57.000000   1967.000000    5.425000   \n",
      "75%      1.010000   62.500000   59.000000   4542.500000    6.430000   \n",
      "max      2.480000   66.200000   69.000000  17877.000000    8.850000   \n",
      "\n",
      "                y           z  \n",
      "count  270.000000  270.000000  \n",
      "mean     5.647148    3.485741  \n",
      "std      1.073019    0.664576  \n",
      "min      4.040000    2.470000  \n",
      "25%      4.742500    2.922500  \n",
      "50%      5.420000    3.310000  \n",
      "75%      6.457500    4.000000  \n",
      "max      8.820000    5.280000  \n"
     ]
    }
   ],
   "source": [
    "fraction = 0.005\n",
    "diamonds = diamonds.sample(frac =fraction)   ###frac 매개 변수에 샘플링하고자 하는 비율 입력\n",
    "print(diamonds.columns)\n",
    "print(diamonds.describe())"
   ]
  },
  {
   "cell_type": "code",
   "execution_count": 20,
   "metadata": {},
   "outputs": [
    {
     "name": "stdout",
     "output_type": "stream",
     "text": [
      "69.0\n",
      "52.0\n"
     ]
    }
   ],
   "source": [
    "xdata = diamonds['price']\n",
    "ydata = diamonds['depth']\n",
    "table = diamonds['table']\n",
    "\n",
    "print(table.max())\n",
    "print(table.min())"
   ]
  },
  {
   "cell_type": "code",
   "execution_count": 21,
   "metadata": {},
   "outputs": [
    {
     "name": "stdout",
     "output_type": "stream",
     "text": [
      "['Good' 'Very Good' 'Ideal' 'Premium' 'Fair']\n",
      "{'Good': 'r', 'Very Good': 'g', 'Ideal': 'b', 'Premium': 'y', 'Fair': 'm'}\n"
     ]
    }
   ],
   "source": [
    "mycolor = ['r', 'g', 'b', 'y', 'm']\n",
    "cut_list = diamonds['cut'].unique()\n",
    "print(cut_list)\n",
    "\n",
    "cut_dict = {cut_list[idx]:mycolor[idx] for idx in range(len(cut_list))}\n",
    "print(cut_dict)"
   ]
  },
  {
   "cell_type": "code",
   "execution_count": 22,
   "metadata": {},
   "outputs": [
    {
     "name": "stdout",
     "output_type": "stream",
     "text": [
      "       price  depth  newtable  table newcut\n",
      "42541   1323   64.0         5   57.0      r\n",
      "28688    678   60.6       100   60.0      g\n",
      "36708    953   62.5         5   56.0      b\n",
      "45121   1651   58.5       100   60.0      y\n",
      "44262   1575   62.0         5   55.4      b\n",
      "...      ...    ...       ...    ...    ...\n",
      "26648  16437   61.8        30   58.0      y\n",
      "13787   5621   62.5       100   60.0      y\n",
      "5830    3917   60.6       100   60.0      g\n",
      "28934    684   60.8        30   58.0      y\n",
      "41558   1237   62.0       100   60.0      g\n",
      "\n",
      "[270 rows x 5 columns]\n"
     ]
    }
   ],
   "source": [
    "###컷의 품질에 따른 색상 반환\n",
    "def recode_cut(cut):\n",
    "    return cut_dict[cut]\n",
    "    \n",
    "###문자열 데이터를 숫자형으로 변환\n",
    "diamonds['newcut'] = diamonds['cut'].apply(recode_cut)\n",
    "newcut = diamonds['newcut']\n",
    "\n",
    "###차트에 그려지는 원의 크기를 지정\n",
    "def recode_table(table):\n",
    "    if table >= 60:\n",
    "        return 100\n",
    "    elif table >= 58:\n",
    "        return 30\n",
    "    elif table >= 54:\n",
    "        return 5\n",
    "    else :\n",
    "        return 1\n",
    "    \n",
    "diamonds['newtable'] = diamonds['table'].apply(recode_table)\n",
    "newtable = diamonds['newtable']\n",
    "\n",
    "print(diamonds.loc[:, ['price', 'depth', 'newtable', 'table', 'newcut']])"
   ]
  },
  {
   "cell_type": "code",
   "execution_count": 23,
   "metadata": {},
   "outputs": [
    {
     "data": {
      "image/png": "[encoded data removed]",
      "text/plain": [
       "<Figure size 432x288 with 1 Axes>"
      ]
     },
     "metadata": {},
     "output_type": "display_data"
    }
   ],
   "source": [
    "scatter_plot = plt.figure()\n",
    "ax1 = scatter_plot.add_subplot(1,1,1)\n",
    "\n",
    "ax1.scatter(x=xdata, y=ydata, s=newtable, c=newcut, alpha=0.8)\n",
    "###s = 도형의 크기 지정, c = 색상 이름 또는 연속형 숫자\n",
    "\n",
    "ax1.set_title('Price vs Depth Colored by Cut and Table')\n",
    "ax1.set_xlabel('Price')\n",
    "ax1.set_ylabel('Depth')\n",
    "\n",
    "plt.show()"
   ]
  },
  {
   "cell_type": "markdown",
   "metadata": {},
   "source": [
    "### ■ 막대 그래프\n",
    "### 1) 특징\n",
    "#### ● 여러 가지 통계 데이터나 양을 막대 모양의 길이로 나타낸 그래프\n",
    "#### ● 각 항목의 수량의 크기를 비교하기 쉬우며, 정확히 나타낼 수 있음\n",
    "#### ● 시각적으로 전체를 한눈에 쉽게 파악할 수 있음\n",
    "#### ● 항목의 개수가 적을 경우 가로 막대가 가독성이 좋고, 많을 경우 세로 막대가 보기 편리함\n",
    "### 2) 사용예시\n",
    "#### ● 변화된 양에 대해 일별/월별/연도별 통계 등의 비교\n",
    "#### ● 체력장에서 학생별 줄넘기를 성공한 개수"
   ]
  },
  {
   "cell_type": "markdown",
   "metadata": {},
   "source": [
    "### [실습007] 특정 일자 일변량 막대 그래프"
   ]
  },
  {
   "cell_type": "code",
   "execution_count": 24,
   "metadata": {},
   "outputs": [
    {
     "name": "stdout",
     "output_type": "stream",
     "text": [
      "Index(['4월06일', '4월07일', '4월08일', '4월09일', '4월10일', '4월11일', '4월12일'], dtype='object')\n",
      "       4월06일   4월07일   4월08일   4월09일   4월10일   4월11일   4월12일\n",
      "국가                                                          \n",
      "미국    335524  364723  387547  424945  461437  495535  524903\n",
      "스페인   130709  135032  140510  146690  152446  157022  161852\n",
      "이탈리아  128948  132547  135586  139422  143626  147577  152271\n",
      "독일    100024  102453  107591  112113  118181  122171  124908\n",
      "프랑스    70478   74390   78167   82048   86334   90276   93790\n",
      "중국     81708   81740   81802   81865   81907   81953   82052\n",
      "영국     47806   51608   55242   60733   65077   73758   78991\n",
      "이란     58226   60500   62589   64586   66220   68192   70029\n",
      "스위스    21104   21652   22241   22789   23574   24308   24900\n",
      "한국     10284   10331   10384   10423   10450   10480   10512\n",
      "국가\n",
      "미국      335524\n",
      "스페인     130709\n",
      "이탈리아    128948\n",
      "독일      100024\n",
      "프랑스      70478\n",
      "중국       81708\n",
      "영국       47806\n",
      "이란       58226\n",
      "스위스      21104\n",
      "한국       10284\n",
      "Name: 4월06일, dtype: int64\n"
     ]
    }
   ],
   "source": [
    "plt.rc('font', family='Malgun Gothic')\n",
    "\n",
    "data = pd.read_csv('C:/Users/user/Desktop/Mydata Unit/데이터시각화_소스(아이콕스)/data/주요발생국가주간동향(4월2째주).csv', index_col = '국가')\n",
    "print(data.columns)\n",
    "print(data)\n",
    "\n",
    "chartdata = data['4월06일']\n",
    "print(chartdata)"
   ]
  },
  {
   "cell_type": "code",
   "execution_count": 25,
   "metadata": {},
   "outputs": [],
   "source": [
    "###plt.bar() 메소드를 사용한 막대 그래프\n",
    "def MakeBarChart01(x, y, color, xlabel, ylabel, title):\n",
    "    plt.figure()\n",
    "    plt.bar(x, y, color=color, alpha=0.7)\n",
    "    \n",
    "    plt.xlabel(xlabel)\n",
    "    plt.ylabel(ylabel)\n",
    "    plt.title(title)\n",
    "    #plt.grid(True)\n",
    "    \n",
    "    yticks_interval = 50000\n",
    "    maxlim = (int(y.max() / yticks_interval) + 1) * yticks_interval\n",
    "    print(maxlim)\n",
    "    \n",
    "    values = np.arange(0, maxlim + 1, yticks_interval)\n",
    "    plt.yticks(values, ['%s' % format(val, ',') for val in values])\n",
    "    \n",
    "    ###그래프 내 건수 및 비율 표시\n",
    "    ratio = 100*y / y.sum()\n",
    "    print(ratio)\n",
    "    print('-'*40)\n",
    "    \n",
    "    plt.rc('font', size=6)\n",
    "    for idx in range(y.size):\n",
    "        value = format(y[idx], ',') + '건'   ###EX.60건\n",
    "        ratioval = '%.1f%%' % (ratio[idx])   ###EX. 20.0%\n",
    "        plt.text(x=idx, y=y[idx]+1, s=value, horizontalalignment='center')\n",
    "        plt.text(x=idx, y=y[idx]/2, s=ratioval, horizontalalignment='center')\n",
    "    \n",
    "    ###평균값 수평선으로 표현\n",
    "    meanval = y.mean()\n",
    "    print(meanval)\n",
    "    print('-'*40)\n",
    "    \n",
    "    average = '평균 : %d건' % meanval\n",
    "    plt.axhline(y=meanval, color='r', linewidth=1, linestyle='dashed')\n",
    "    plt.text(x=y.size - 1, y=meanval+200, s=average, horizontalalignment='center')"
   ]
  },
  {
   "cell_type": "code",
   "execution_count": 26,
   "metadata": {},
   "outputs": [
    {
     "name": "stdout",
     "output_type": "stream",
     "text": [
      "350000\n",
      "국가\n",
      "미국      34.069888\n",
      "스페인     13.272496\n",
      "이탈리아    13.093680\n",
      "독일      10.156670\n",
      "프랑스      7.156500\n",
      "중국       8.296820\n",
      "영국       4.854332\n",
      "이란       5.912403\n",
      "스위스      2.142949\n",
      "한국       1.044261\n",
      "Name: 4월06일, dtype: float64\n",
      "----------------------------------------\n",
      "98481.1\n",
      "----------------------------------------\n"
     ]
    },
    {
     "data": {
      "image/png": "[encoded data removed]",
      "text/plain": [
       "<Figure size 432x288 with 1 Axes>"
      ]
     },
     "metadata": {},
     "output_type": "display_data"
    }
   ],
   "source": [
    "colors = ['b','g','r','c','m','y','k']\n",
    "mycolor = colors[0:len(chartdata)]\n",
    "MakeBarChart01(x=chartdata.index, y=chartdata, color=mycolor, xlabel='국가명', ylabel='발생건수', title='국가별 코로나 발생 건수')"
   ]
  },
  {
   "cell_type": "markdown",
   "metadata": {},
   "source": [
    "### [실습008] 특정 국가별 일별 다변량 막대 그래프"
   ]
  },
  {
   "cell_type": "code",
   "execution_count": 27,
   "metadata": {},
   "outputs": [],
   "source": [
    "def MakeBarChart02(chartdata, rotation, title, ylim=None, stacked=False, yticks_interval=10000):\n",
    "    plt.figure()\n",
    "    ###범례에 제목 입력 시, plot() 메소드의 legend 옵션 사용\n",
    "    chartdata.plot(kind='bar', rot=rotation, title=title, legend=True, stacked=stacked)\n",
    "    \n",
    "    plt.legend(loc='best')\n",
    "    print(chartdata)\n",
    "    \n",
    "    if stacked == False:\n",
    "        ###항목들 값 중 최댓값\n",
    "        maxlim = (int(max(chartdata.max()) / yticks_interval) + 1) * yticks_interval\n",
    "        print('maxlim : ', maxlim)\n",
    "        values = np.arange(0, maxlim + 1, yticks_interval)\n",
    "        plt.yticks(values, ['%s' % format(val, ',') for val in values])\n",
    "    \n",
    "    else: ###누적 막대 그래프 생성\n",
    "        maxlim = (int(max(chartdata.sum(axis=1)) / yticks_interval) + 1) * yticks_interval\n",
    "        print('maxlim : ', maxlim)\n",
    "        values = np.arange(0, maxlim + 1, yticks_interval)\n",
    "        plt.yticks(values, ['%s' % format(val, ',') for val in values])\n",
    "\n",
    "    ###y축의 상하한 값이 주어지는 경우에만 설정\n",
    "    if ylim != None:\n",
    "        plt.ylim(ylim)"
   ]
  },
  {
   "cell_type": "code",
   "execution_count": 28,
   "metadata": {},
   "outputs": [
    {
     "name": "stdout",
     "output_type": "stream",
     "text": [
      "Index(['4월06일', '4월07일', '4월08일', '4월09일', '4월10일', '4월11일', '4월12일'], dtype='object')\n",
      "     4월06일  4월07일  4월08일\n",
      "국가                      \n",
      "프랑스  70478  74390  78167\n",
      "중국   81708  81740  81802\n",
      "영국   47806  51608  55242\n",
      "이란   58226  60500  62589\n"
     ]
    }
   ],
   "source": [
    "print(data.columns)\n",
    "country = ['프랑스', '중국', '영국', '이란']\n",
    "when = '4월06일', '4월07일', '4월08일'\n",
    "data = data.loc[country, when]\n",
    "\n",
    "print(data)"
   ]
  },
  {
   "cell_type": "code",
   "execution_count": 29,
   "metadata": {},
   "outputs": [
    {
     "name": "stdout",
     "output_type": "stream",
     "text": [
      "일자   4월06일  4월07일  4월08일\n",
      "국가명                     \n",
      "프랑스  70478  74390  78167\n",
      "중국   81708  81740  81802\n",
      "영국   47806  51608  55242\n",
      "이란   58226  60500  62589\n",
      "maxlim :  90000\n"
     ]
    },
    {
     "data": {
      "text/plain": [
       "<Figure size 432x288 with 0 Axes>"
      ]
     },
     "metadata": {},
     "output_type": "display_data"
    },
    {
     "data": {
      "image/png": "[encoded data removed]",
      "text/plain": [
       "<Figure size 432x288 with 1 Axes>"
      ]
     },
     "metadata": {},
     "output_type": "display_data"
    }
   ],
   "source": [
    "data.index.name = '국가명'\n",
    "data.columns.name = '일자'\n",
    "\n",
    "MakeBarChart02(chartdata=data, rotation=0, title='국가별 일별 발생 건수')"
   ]
  },
  {
   "cell_type": "markdown",
   "metadata": {},
   "source": [
    "### [실습009] 일별 국가별 다변량 막대 그래프"
   ]
  },
  {
   "cell_type": "code",
   "execution_count": 30,
   "metadata": {},
   "outputs": [
    {
     "name": "stdout",
     "output_type": "stream",
     "text": [
      "국가명      프랑스     중국     영국     이란\n",
      "일자                               \n",
      "4월06일  70478  81708  47806  58226\n",
      "4월07일  74390  81740  51608  60500\n",
      "4월08일  78167  81802  55242  62589\n",
      "국가명      프랑스     중국     영국     이란\n",
      "일자                               \n",
      "4월06일  70478  81708  47806  58226\n",
      "4월07일  74390  81740  51608  60500\n",
      "4월08일  78167  81802  55242  62589\n",
      "maxlim :  90000\n"
     ]
    },
    {
     "data": {
      "text/plain": [
       "<Figure size 432x288 with 0 Axes>"
      ]
     },
     "metadata": {},
     "output_type": "display_data"
    },
    {
     "data": {
      "image/png": "[encoded data removed]",
      "text/plain": [
       "<Figure size 432x288 with 1 Axes>"
      ]
     },
     "metadata": {},
     "output_type": "display_data"
    }
   ],
   "source": [
    "dataT = data.T\n",
    "print(dataT)\n",
    "\n",
    "MakeBarChart02(chartdata=dataT, rotation=0, title='일별 국가별 발생 건수')"
   ]
  },
  {
   "cell_type": "markdown",
   "metadata": {},
   "source": [
    "### [실습010] 일별 국가별 누적 막대 그래프"
   ]
  },
  {
   "cell_type": "code",
   "execution_count": 31,
   "metadata": {},
   "outputs": [
    {
     "name": "stdout",
     "output_type": "stream",
     "text": [
      "일자   4월06일  4월07일  4월08일\n",
      "국가명                     \n",
      "프랑스  70478  74390  78167\n",
      "중국   81708  81740  81802\n",
      "영국   47806  51608  55242\n",
      "이란   58226  60500  62589\n",
      "maxlim :  250000\n"
     ]
    },
    {
     "data": {
      "text/plain": [
       "<Figure size 432x288 with 0 Axes>"
      ]
     },
     "metadata": {},
     "output_type": "display_data"
    },
    {
     "data": {
      "image/png": "[encoded data removed]",
      "text/plain": [
       "<Figure size 432x288 with 1 Axes>"
      ]
     },
     "metadata": {},
     "output_type": "display_data"
    }
   ],
   "source": [
    "ymax = dataT.sum(axis=1)\n",
    "ymaxlimit = ymax.max() + 10\n",
    "\n",
    "MakeBarChart02(chartdata=data, rotation=0, title='국가별 일별 발생 건수(누적)', ylim=[0,ymaxlimit], stacked=True, yticks_interval=50000)\n",
    "###stacked 매개변수를 True로 지정 시 누적된 형태로 표현 가능"
   ]
  },
  {
   "cell_type": "markdown",
   "metadata": {},
   "source": [
    "### [실습011] 국가별 일별 누적 가로 막대 그래프"
   ]
  },
  {
   "cell_type": "code",
   "execution_count": 32,
   "metadata": {},
   "outputs": [
    {
     "name": "stdout",
     "output_type": "stream",
     "text": [
      "['프랑스', '중국', '영국']\n",
      "     4월06일  4월07일  4월08일  4월09일  4월10일  4월11일  4월12일\n",
      "국가                                                  \n",
      "프랑스  70478  74390  78167  82048  86334  90276  93790\n",
      "중국   81708  81740  81802  81865  81907  81953  82052\n",
      "영국   47806  51608  55242  60733  65077  73758  78991\n",
      "['4월06일', '4월07일', '4월08일', '4월09일', '4월10일', '4월11일', '4월12일']\n"
     ]
    }
   ],
   "source": [
    "data = pd.read_csv('C:/Users/user/Desktop/Mydata Unit/데이터시각화_소스(아이콕스)/data/주요발생국가주간동향(4월2째주).csv', index_col = '국가')\n",
    "\n",
    "three = [item for item in data.index if item in ['프랑스', '영국', '중국']]\n",
    "print(three)\n",
    "\n",
    "data = data.loc[three]\n",
    "print(data)\n",
    "\n",
    "column_names = data.columns.tolist()\n",
    "print(column_names)"
   ]
  },
  {
   "cell_type": "code",
   "execution_count": 33,
   "metadata": {},
   "outputs": [
    {
     "data": {
      "text/plain": [
       "{'프랑스': array([70478, 74390, 78167, 82048, 86334, 90276, 93790], dtype=int64),\n",
       " '중국': array([81708, 81740, 81802, 81865, 81907, 81953, 82052], dtype=int64),\n",
       " '영국': array([47806, 51608, 55242, 60733, 65077, 73758, 78991], dtype=int64)}"
      ]
     },
     "execution_count": 33,
     "metadata": {},
     "output_type": "execute_result"
    }
   ],
   "source": [
    "chartdata = {}\n",
    "\n",
    "for row in data.index:\n",
    "    chartdata[row] = data.loc[row].values\n",
    "\n",
    "chartdata"
   ]
  },
  {
   "cell_type": "code",
   "execution_count": 34,
   "metadata": {},
   "outputs": [],
   "source": [
    "def MakeBarChart03(chartdata, column_names):\n",
    "    labels = list(chartdata.keys())\n",
    "    data = np.array(list(chartdata.values()))\n",
    "    data_cum = data.cumsum(axis=1)\n",
    "    category_colors = plt.get_cmap('RdYlGn')(np.linspace(0.15, 0.85, data.shape[1]))\n",
    "\n",
    "    fig, ax = plt.subplots(figsize=(9.2, 5))\n",
    "    ax.invert_yaxis()\n",
    "    ax.xaxis.set_visible(False)\n",
    "    ax.set_xlim(0, np.sum(data, axis=1).max())\n",
    "\n",
    "    for i, (colname, color) in enumerate(zip(column_names, category_colors)):\n",
    "        widths = data[:, i]\n",
    "        starts = data_cum[:, i] - widths\n",
    "        ax.barh(labels, widths, left=starts, height=0.5,\n",
    "                label=colname, color=color)\n",
    "        xcenters = starts + widths / 2\n",
    "\n",
    "        r, g, b, _ = color\n",
    "        text_color = 'white' if r * g * b < 0.5 else 'darkgrey'\n",
    "        for y, (x, c) in enumerate(zip(xcenters, widths)):\n",
    "            ax.text(x, y, str(int(c)), ha='center', va='center',\n",
    "                    color=text_color)\n",
    "    ax.legend(ncol=len(column_names), bbox_to_anchor=(0, 1),\n",
    "              loc='lower left', fontsize='small')"
   ]
  },
  {
   "cell_type": "code",
   "execution_count": 35,
   "metadata": {},
   "outputs": [
    {
     "data": {
      "image/png": "[encoded data removed]",
      "text/plain": [
       "<Figure size 662.4x360 with 1 Axes>"
      ]
     },
     "metadata": {},
     "output_type": "display_data"
    }
   ],
   "source": [
    "MakeBarChart03(chartdata, column_names)"
   ]
  },
  {
   "cell_type": "markdown",
   "metadata": {},
   "source": [
    "### [실습012] 서브 플로팅 사용하기"
   ]
  },
  {
   "cell_type": "code",
   "execution_count": 36,
   "metadata": {},
   "outputs": [],
   "source": [
    "def MakeBarChart04(chartdata, suptitle):\n",
    "    fig, axes = plt.subplots(nrows=2, ncols=1)\n",
    "    \n",
    "    chartdata.plot(kind='bar', ax=axes[0], rot=0, alpha=0.7)\n",
    "    chartdata.plot(kind='barh', ax=axes[1], color='m', alpha=0.7)\n",
    "    \n",
    "    fig.suptitle(suptitle)"
   ]
  },
  {
   "cell_type": "code",
   "execution_count": 37,
   "metadata": {},
   "outputs": [
    {
     "name": "stdout",
     "output_type": "stream",
     "text": [
      "국가         미국\n",
      "4월06일  335524\n",
      "4월07일  364723\n",
      "4월08일  387547\n",
      "4월09일  424945\n",
      "4월10일  461437\n",
      "4월11일  495535\n",
      "4월12일  524903\n"
     ]
    },
    {
     "data": {
      "image/png": "[encoded data removed]",
      "text/plain": [
       "<Figure size 432x288 with 2 Axes>"
      ]
     },
     "metadata": {},
     "output_type": "display_data"
    }
   ],
   "source": [
    "data = pd.read_csv('C:/Users/user/Desktop/Mydata Unit/데이터시각화_소스(아이콕스)/data/주요발생국가주간동향(4월2째주).csv', index_col = '국가')\n",
    "\n",
    "only_usa = [item for item in data.index if item in ['미국']]\n",
    "data = data.loc[only_usa].T\n",
    "print(data)\n",
    "\n",
    "MakeBarChart04(chartdata=data, suptitle='서브플로팅')"
   ]
  },
  {
   "cell_type": "markdown",
   "metadata": {},
   "source": [
    "### [실습013] Table이 존재하는 막대 그래프"
   ]
  },
  {
   "cell_type": "code",
   "execution_count": 38,
   "metadata": {},
   "outputs": [
    {
     "data": {
      "text/html": [
       "<div>\n",
       "<style scoped>\n",
       "    .dataframe tbody tr th:only-of-type {\n",
       "        vertical-align: middle;\n",
       "    }\n",
       "\n",
       "    .dataframe tbody tr th {\n",
       "        vertical-align: top;\n",
       "    }\n",
       "\n",
       "    .dataframe thead th {\n",
       "        text-align: right;\n",
       "    }\n",
       "</style>\n",
       "<table border=\"1\" class=\"dataframe\">\n",
       "  <thead>\n",
       "    <tr style=\"text-align: right;\">\n",
       "      <th></th>\n",
       "      <th>4월06일</th>\n",
       "      <th>4월07일</th>\n",
       "      <th>4월08일</th>\n",
       "      <th>4월09일</th>\n",
       "      <th>4월10일</th>\n",
       "    </tr>\n",
       "    <tr>\n",
       "      <th>국가</th>\n",
       "      <th></th>\n",
       "      <th></th>\n",
       "      <th></th>\n",
       "      <th></th>\n",
       "      <th></th>\n",
       "    </tr>\n",
       "  </thead>\n",
       "  <tbody>\n",
       "    <tr>\n",
       "      <th>스페인</th>\n",
       "      <td>130709</td>\n",
       "      <td>135032</td>\n",
       "      <td>140510</td>\n",
       "      <td>146690</td>\n",
       "      <td>152446</td>\n",
       "    </tr>\n",
       "    <tr>\n",
       "      <th>프랑스</th>\n",
       "      <td>70478</td>\n",
       "      <td>74390</td>\n",
       "      <td>78167</td>\n",
       "      <td>82048</td>\n",
       "      <td>86334</td>\n",
       "    </tr>\n",
       "    <tr>\n",
       "      <th>중국</th>\n",
       "      <td>81708</td>\n",
       "      <td>81740</td>\n",
       "      <td>81802</td>\n",
       "      <td>81865</td>\n",
       "      <td>81907</td>\n",
       "    </tr>\n",
       "    <tr>\n",
       "      <th>영국</th>\n",
       "      <td>47806</td>\n",
       "      <td>51608</td>\n",
       "      <td>55242</td>\n",
       "      <td>60733</td>\n",
       "      <td>65077</td>\n",
       "    </tr>\n",
       "    <tr>\n",
       "      <th>이란</th>\n",
       "      <td>58226</td>\n",
       "      <td>60500</td>\n",
       "      <td>62589</td>\n",
       "      <td>64586</td>\n",
       "      <td>66220</td>\n",
       "    </tr>\n",
       "  </tbody>\n",
       "</table>\n",
       "</div>"
      ],
      "text/plain": [
       "      4월06일   4월07일   4월08일   4월09일   4월10일\n",
       "국가                                         \n",
       "스페인  130709  135032  140510  146690  152446\n",
       "프랑스   70478   74390   78167   82048   86334\n",
       "중국    81708   81740   81802   81865   81907\n",
       "영국    47806   51608   55242   60733   65077\n",
       "이란    58226   60500   62589   64586   66220"
      ]
     },
     "execution_count": 38,
     "metadata": {},
     "output_type": "execute_result"
    }
   ],
   "source": [
    "data = pd.read_csv('C:/Users/user/Desktop/Mydata Unit/데이터시각화_소스(아이콕스)/data/주요발생국가주간동향(4월2째주).csv', index_col = '국가')\n",
    "\n",
    "country = ['스페인', '프랑스', '중국', '영국', '이란']\n",
    "when = ['4월06일', '4월07일', '4월08일', '4월09일', '4월10일']\n",
    "data = data.loc[country, when]\n",
    "\n",
    "data"
   ]
  },
  {
   "cell_type": "code",
   "execution_count": 39,
   "metadata": {},
   "outputs": [
    {
     "name": "stdout",
     "output_type": "stream",
     "text": [
      "['스페인', '프랑스', '중국', '영국', '이란']\n",
      "['4월06일', '4월07일', '4월08일', '4월09일', '4월10일']\n"
     ]
    }
   ],
   "source": [
    "rows = [x for x in data.index]\n",
    "print(rows)\n",
    "\n",
    "columns = [x for x in data.columns]\n",
    "print(columns)"
   ]
  },
  {
   "cell_type": "code",
   "execution_count": 40,
   "metadata": {},
   "outputs": [
    {
     "name": "stdout",
     "output_type": "stream",
     "text": [
      "데이터 최대 값 : 152446\n",
      "n_rows : 5\n",
      "ind예시 : [0.3 1.3 2.3 3.3 4.3]\n",
      "y_offset : [0. 0. 0. 0. 0.]\n"
     ]
    }
   ],
   "source": [
    "print('데이터 최대 값 :', max(data.max()))\n",
    "\n",
    "n_rows = len(data)\n",
    "print('n_rows :', n_rows)\n",
    "\n",
    "left_margin = 0.3\n",
    "index = np.arange(len(columns)) + left_margin\n",
    "print('ind예시 :', index)\n",
    "\n",
    "y_offset = np.zeros(len(columns))\n",
    "print('y_offset :', y_offset)"
   ]
  },
  {
   "cell_type": "code",
   "execution_count": 41,
   "metadata": {},
   "outputs": [
    {
     "name": "stdout",
     "output_type": "stream",
     "text": [
      "data[row]\n",
      "[130709, 135032, 140510, 146690, 152446]\n"
     ]
    },
    {
     "ename": "NameError",
     "evalue": "name 'width' is not defined",
     "output_type": "error",
     "traceback": [
      "\u001b[1;31m---------------------------------------------------------------------------\u001b[0m",
      "\u001b[1;31mNameError\u001b[0m                                 Traceback (most recent call last)",
      "\u001b[1;32m<ipython-input-41-d9f7de8a9a09>\u001b[0m in \u001b[0;36m<module>\u001b[1;34m\u001b[0m\n\u001b[0;32m      9\u001b[0m \u001b[1;33m\u001b[0m\u001b[0m\n\u001b[0;32m     10\u001b[0m     \u001b[1;31m# bottom\u001b[0m\u001b[1;33m\u001b[0m\u001b[1;33m\u001b[0m\u001b[1;33m\u001b[0m\u001b[0m\n\u001b[1;32m---> 11\u001b[1;33m     \u001b[0mplt\u001b[0m\u001b[1;33m.\u001b[0m\u001b[0mbar\u001b[0m\u001b[1;33m(\u001b[0m\u001b[0mindex\u001b[0m\u001b[1;33m,\u001b[0m \u001b[0mchartdata\u001b[0m\u001b[1;33m,\u001b[0m\u001b[0mwidth\u001b[0m\u001b[1;33m,\u001b[0m \u001b[0mbottom\u001b[0m\u001b[1;33m=\u001b[0m\u001b[0my_offset\u001b[0m\u001b[1;33m,\u001b[0m \u001b[0mlabel\u001b[0m\u001b[1;33m=\u001b[0m\u001b[0mrow\u001b[0m\u001b[1;33m)\u001b[0m\u001b[1;33m\u001b[0m\u001b[1;33m\u001b[0m\u001b[0m\n\u001b[0m\u001b[0;32m     12\u001b[0m \u001b[1;33m\u001b[0m\u001b[0m\n\u001b[0;32m     13\u001b[0m     \u001b[1;31m# y_offset에는 열 단위로 누적된 값이 들어 갑니다.\u001b[0m\u001b[1;33m\u001b[0m\u001b[1;33m\u001b[0m\u001b[1;33m\u001b[0m\u001b[0m\n",
      "\u001b[1;31mNameError\u001b[0m: name 'width' is not defined"
     ]
    },
    {
     "data": {
      "text/plain": [
       "<Figure size 432x288 with 0 Axes>"
      ]
     },
     "metadata": {},
     "output_type": "display_data"
    }
   ],
   "source": [
    "# Plot bars and create text labels for the table\n",
    "cell_text = [] # 표에 들어 가는 텍스트 내용\n",
    "plt.figure()\n",
    "\n",
    "for row in data.index:\n",
    "    print('data[row]')\n",
    "    chartdata = data.loc[row].tolist()\n",
    "    print(chartdata)\n",
    "\n",
    "    # bottom\n",
    "    plt.bar(index, chartdata,width, bottom=y_offset, label=row)\n",
    "\n",
    "    # y_offset에는 열 단위로 누적된 값이 들어 갑니다.\n",
    "    y_offset = y_offset + chartdata\n",
    "    # y_offset = chartdata\n",
    "    print('y_offset')\n",
    "    print(y_offset)\n",
    "\n",
    "    cell_text.append([format(x, ',') for x in chartdata])\n",
    "    # cell_text.append([format(x, ',') for x in y_offset])\n",
    "# end for\n",
    "\n",
    "cell_text.reverse()\n",
    "rows = [rows[idx] for idx in range(len(rows) - 1, -1, -1) ]\n",
    "\n",
    "# Add a table at the bottom of the axes\n",
    "print('cell_text : ', cell_text)\n",
    "print('rows : ', rows)\n",
    "# print('colors : ', colors)\n",
    "print('columns : ', columns)\n",
    "the_table = plt.table(cellText=cell_text, rowLabels=rows, colLabels=columns, loc='bottom')\n",
    "\n",
    "plt.legend(loc='best')\n",
    "# Adjust layout to make room for the table:\n",
    "plt.subplots_adjust(left=0.2, bottom=0.2)\n",
    "\n",
    "plt.ylabel(\"발생 건수\")\n",
    "\n",
    "# values : y축의 눈금의 상한 값과 간격 지정하기\n",
    "YTICKS_INTERVAL = 50000 # 단위 눈금 간격\n",
    "maxlim = (int(y_offset.max()/YTICKS_INTERVAL)+1)*YTICKS_INTERVAL\n",
    "print(maxlim)\n",
    "\n",
    "values = np.arange(0, maxlim, YTICKS_INTERVAL)\n",
    "\n",
    "plt.yticks(values, ['%s' % format(val, ',') for val in values])\n",
    "plt.xticks([])\n",
    "plt.title('테이블이 있는 막대 그래프')"
   ]
  },
  {
   "cell_type": "markdown",
   "metadata": {},
   "source": [
    "### ■ 파이 그래프\n",
    "### 1) 특징\n",
    "#### ● 전체에 대한 각 부분의 비율을 부채꼴 모양으로 나타낸 그래프\n",
    "#### ● 전체적인 비율을 쉽게 파악할 수 있음\n",
    "#### ● 도넛 형태로 표기되기도 하며, 일부는 잘라서 살짝 밖으로 빼내어 보여주기도 함\n",
    "### 2) 사용예시\n",
    "#### ● 각 선거 후보에 대한 투표율"
   ]
  },
  {
   "cell_type": "markdown",
   "metadata": {},
   "source": [
    "### [실습014] 사용자 정의 비율 지정"
   ]
  },
  {
   "cell_type": "code",
   "execution_count": null,
   "metadata": {},
   "outputs": [],
   "source": [
    "plt.rc('font', family='Malgun Gothic')\n",
    "\n",
    "data = pd.read_csv('C:/Users/user/Desktop/Mydata Unit/데이터시각화_소스(아이콕스)/data/주요발생국가주간동향(4월2째주).csv', index_col = '국가')\n",
    "print(data.columns)\n",
    "\n",
    "my_concern = [item for item in data.index if item in ['독일', '프랑스', '중국', '영국']]\n",
    "print(my_concern)"
   ]
  },
  {
   "cell_type": "code",
   "execution_count": null,
   "metadata": {},
   "outputs": [],
   "source": [
    "data = data.loc[my_concern]\n",
    "chartdata = data['4월06일']\n",
    "print(chartdata)\n",
    "\n",
    "mylabel = chartdata.index\n",
    "print(mylabel)\n",
    "\n",
    "mycolors = ['blue', '#6AFF00', 'yellow', '#FF003C']"
   ]
  },
  {
   "cell_type": "code",
   "execution_count": null,
   "metadata": {},
   "outputs": [],
   "source": [
    "plt.figure()\n",
    "\n",
    "plt.pie(chartdata, labels=mylabel, shadow=False, explode=(0,0.05,0,0),\n",
    "       colors=mycolors, autopct='%1.2f%%', startangle=90, counterclock=False)\n",
    "\n",
    "plt.grid(True)\n",
    "plt.legend(loc=4)\n",
    "plt.xlabel('국가명')\n",
    "plt.title('주요 국가 발생 건수')\n",
    "\n",
    "plt.show()"
   ]
  },
  {
   "cell_type": "markdown",
   "metadata": {},
   "source": [
    "### [실습015] 사용자 정의 포지셔닝"
   ]
  },
  {
   "cell_type": "code",
   "execution_count": null,
   "metadata": {},
   "outputs": [],
   "source": [
    "fix, ax = plt.subplots(figsize=(6,3), subplot_kw=dict(aspect=\"equal\"))\n",
    "\n",
    "def getLabelFormat(pct, allvals):\n",
    "    absolute = int(pct/100.*np.sum(allvals))\n",
    "    return \"{:.2f}%\\n({:d} 명)\".format(pct, absolute)\n",
    "\n",
    "wedges, texts, autotexts = ax.pie(chartdata, autopct = lambda pct:getLabelFormat(pct, chartdata), textprops=dict(color=\"w\"))\n",
    "\n",
    "ax.legend(wedges, mylabel,\n",
    "          title = \"국가명\",\n",
    "          loc = \"center left\",\n",
    "          bbox_to_anchor=(1,0,0.5,1))\n",
    "\n",
    "plt.setp(autotexts, size=8, weight=\"bold\")\n",
    "\n",
    "ax.set_title(\"주요 국가 발생 건수\")"
   ]
  },
  {
   "cell_type": "markdown",
   "metadata": {},
   "source": [
    "### [실습016] 도우넛 파이 그래프"
   ]
  },
  {
   "cell_type": "code",
   "execution_count": null,
   "metadata": {},
   "outputs": [],
   "source": [
    "print('도우넛 그래프를 그려 봅니다.')\n",
    "data = pd.read_csv('C:/Users/user/Desktop/Mydata Unit/데이터시각화_소스(아이콕스)/data/주요발생국가주간동향(4월2째주).csv', index_col = '국가')\n",
    "\n",
    "fig, ax = plt.subplots(figsize=(6, 3), subplot_kw=dict(aspect=\"equal\"))\n",
    "\n",
    "COUNTRY = ['독일', '프랑스', '중국', '영국', '이탈리아']\n",
    "\n",
    "data = data.loc[COUNTRY, ['4월06일']]\n",
    "print(data.values.flatten())\n",
    "print('-'*30)\n",
    "\n",
    "wedges, texts = ax.pie(data.values.flatten(), wedgeprops=dict(width=0.5), startangle=-40)\n",
    "\n",
    "bbox_props = dict(boxstyle=\"square,pad=0.3\", fc=\"w\", ec=\"k\", lw=0.72)\n",
    "kw = dict(arrowprops=dict(arrowstyle=\"-\"),\n",
    "          bbox=bbox_props, zorder=0, va=\"center\")\n",
    "\n",
    "for i, p in enumerate(wedges):\n",
    "    ang = (p.theta2 - p.theta1)/2. + p.theta1\n",
    "    print('ang : ', ang)\n",
    "    y = np.sin(np.deg2rad(ang))\n",
    "    x = np.cos(np.deg2rad(ang))\n",
    "\n",
    "    horizontalalignment = {-1: \"right\", 1: \"left\"}[int(np.sign(x))]\n",
    "\n",
    "    connectionstyle = \"angle,angleA=0,angleB={}\".format(ang)\n",
    "\n",
    "    kw[\"arrowprops\"].update({\"connectionstyle\": connectionstyle})\n",
    "\n",
    "    ax.annotate(COUNTRY[i], xy=(x, y), xytext=(1.3*np.sign(x), 1.4*y),\n",
    "                horizontalalignment=horizontalalignment, **kw)\n",
    "\n",
    "ax.set_title(\"도우넛 그래프\")"
   ]
  },
  {
   "cell_type": "markdown",
   "metadata": {},
   "source": [
    "### [실습017] 국가별 중첩 파이 그래프"
   ]
  },
  {
   "cell_type": "code",
   "execution_count": null,
   "metadata": {},
   "outputs": [],
   "source": [
    "print('주요 국가별 중첩 파이 그래프를 그려 봅니다.')\n",
    "fig, ax = plt.subplots()\n",
    "\n",
    "data = pd.read_csv('C:/Users/user/Desktop/Mydata Unit/데이터시각화_소스(아이콕스)/data/주요발생국가주간동향(4월2째주).csv', index_col = '국가')\n",
    "\n",
    "print(data)\n",
    "print('-'*30)\n",
    "\n",
    "COUNTRY = ['독일', '프랑스', '중국', '영국', '이탈리아']\n",
    "my_concern = [item for item in data.index if item in COUNTRY]\n",
    "print(my_concern)\n",
    "\n",
    "data = data.loc[my_concern]\n",
    "\n",
    "filtered_data = data[['4월06일', '4월07일']]\n",
    "\n",
    "print(filtered_data)\n",
    "print('-'*30)\n",
    "\n",
    "print(filtered_data.index.values)\n",
    "print('-'*30)\n",
    "\n",
    "totallist = []   ###차트를 그릴 중첩 데이터\n",
    "for key in filtered_data.index.values :\n",
    "       imsi = filtered_data.loc[key].values\n",
    "       totallist.append([item for item in imsi])\n",
    "\n",
    "chartdata = np.array(totallist)\n",
    "print('chartdata : \\n', chartdata)\n",
    "\n",
    "color_su = len(COUNTRY)   ###색상 개수 지정\n",
    "cmap = plt.get_cmap(\"tab20c\")\n",
    "outer_colors = cmap(np.arange(color_su)*4)\n",
    "\n",
    "inner_colors = cmap(np.arange(2*color_su))\n",
    "print('inner_colors :', inner_colors)\n",
    "print('outer_colors :', outer_colors)\n",
    "\n",
    "cum_sum = chartdata.sum(axis=1)   ###누계\n",
    "print('cum_sum : ', cum_sum)\n",
    "\n",
    "###숫자가 적을 수록 가운데 비어 있는 원이 커짐\n",
    "INNER_VACANT_CIRCLE_SIZE = 0.3\n",
    "\n",
    "OUTER_PCTDISTANCE = 0.85   ###비율을 보여주는 위치, 원점에서의 거리 지정\n",
    "###edgecolor='w', 'None'\n",
    "ax.pie(cum_sum, radius=1, colors=outer_colors,\n",
    "       wedgeprops=dict(width=INNER_VACANT_CIRCLE_SIZE, edgecolor='w'),\n",
    "       labels=COUNTRY, autopct='%.2f%%', pctdistance=OUTER_PCTDISTANCE)\n",
    "\n",
    "INNER_PCTDISTANCE = 0.75\n",
    "\n",
    "ax.pie(chartdata.flatten(), radius=1-INNER_VACANT_CIRCLE_SIZE, colors=inner_colors,\n",
    "       wedgeprops=dict(width=INNER_VACANT_CIRCLE_SIZE, edgecolor='w'),\n",
    "       autopct='%.2f%%', pctdistance=INNER_PCTDISTANCE)\n",
    "\n",
    "ax.set(aspect=\"equal\", title='주요 국가별 중첩 파이 그래프')"
   ]
  },
  {
   "cell_type": "markdown",
   "metadata": {},
   "source": [
    "### [실습018] 특정 파이 영역의 세부 내역 보이기"
   ]
  },
  {
   "cell_type": "code",
   "execution_count": null,
   "metadata": {},
   "outputs": [],
   "source": [
    "fig = plt.figure(figsize=(9,5))\n",
    "ax1 = fig.add_subplot(121)\n",
    "ax2 = fig.add_subplot(122)\n",
    "fig.subplots_adjust(wspace=0)\n",
    "\n",
    "data = pd.read_csv('C:/Users/user/Desktop/Mydata Unit/데이터시각화_소스(아이콕스)/data/주요발생국가주간동향(4월2째주).csv', index_col = '국가')\n",
    "\n",
    "country = ['독일', '프랑스', '중국']   ###관심 국가 목록\n",
    "my_concern = [item for item in data.index if item in country]\n",
    "print('my_concern : ', my_concern)\n",
    "print('-'*30)\n",
    "\n",
    "data = data.loc[my_concern]\n",
    "\n",
    "when = ['4월06일', '4월07일', '4월08일']   ###관심 일자 목록\n",
    "filtered_data = data[when]   ###파이 차트에 그려질 데이터\n",
    "\n",
    "print('filtered_data : \\n', filtered_data)\n",
    "print('-'*30)\n",
    "\n",
    "pieData = filtered_data.sum(axis=1).values   ###국가별 총합\n",
    "\n",
    "barData = filtered_data.loc['독일'].values\n",
    "barData = barData/sum(barData)\n",
    "\n",
    "print('pieData : ', pieData)\n",
    "print('-'*30)\n",
    "\n",
    "print('barData : ', barData)\n",
    "print('-'*30)\n",
    "\n",
    "###pie chart 관련 변수 리스트\n",
    "explode = [0 for idx in range(len(pieData))]\n",
    "explode[0] = 0.05\n",
    "print('explode : ', explode)\n",
    "print('-'*30)\n",
    "\n",
    "###막대 그래프를 우측에 그리기 때문에 시작 각도는 90도로 지정하고 counterclock=False의 값으로 지정하면 좋음\n",
    "STARTANGLE = 90\n",
    "print('STARTANGLE : ', STARTANGLE)\n",
    "print('-'*30)\n",
    "ax1.pie(pieData, autopct='%1.1f%%', startangle=STARTANGLE,\n",
    "        labels=country, explode=explode, counterclock=False)\n",
    "\n",
    "###막대 그래프 관련 변수\n",
    "xpos = 0\n",
    "bottom = 0\n",
    "width = .2\n",
    "colors = [[.1, .3, .5], [.1, .3, .3], [.1, .3, .7]]\n",
    "colors = ['r', 'g', 'b']\n",
    "\n",
    "for j in range(len(barData)):\n",
    "    height = barData[j]\n",
    "    ax2.bar(xpos, height, width, bottom=bottom, color=colors[j])\n",
    "    ypos = bottom + ax2.patches[j].get_height() / 2\n",
    "    bottom += height\n",
    "    ax2.text(xpos, ypos, \"%.2f%%\" % (ax2.patches[j].get_height() * 100),\n",
    "             ha='center', fontsize=8, color='w')\n",
    "\n",
    "ax2.set_title(\"'\" + country[0] + \"'의 일자별 비율\")\n",
    "ax2.legend((when))\n",
    "ax2.axis('off')\n",
    "ax2.set_xlim(- 2.5 * width, 2.5 * width)\n",
    "\n",
    "theta1, theta2 = ax1.patches[0].theta1, ax1.patches[0].theta2\n",
    "center, r = ax1.patches[0].center, ax1.patches[0].r\n",
    "bar_height = sum([item.get_height() for item in ax2.patches])\n",
    "\n",
    "LINE_WIDTH = 2   ###연결선의 두께\n",
    "\n",
    "from matplotlib.patches import ConnectionPatch\n",
    "\n",
    "###상단의 연결선\n",
    "x = r * np.cos(np.pi / 180 * theta2) + center[0]\n",
    "y = r * np.sin(np.pi / 180 * theta2) + center[1]\n",
    "con = ConnectionPatch(xyA=(-width / 2, bar_height), coordsA=ax2.transData,\n",
    "                      xyB=(x, y), coordsB=ax1.transData)\n",
    "con.set_color([0, 0, 0])\n",
    "con.set_linewidth(LINE_WIDTH)\n",
    "ax2.add_artist(con)\n",
    "\n",
    "###하단의 연결선\n",
    "x = r * np.cos(np.pi / 180 * theta1) + center[0]\n",
    "y = r * np.sin(np.pi / 180 * theta1) + center[1]\n",
    "con = ConnectionPatch(xyA=(-width / 2, 0), coordsA=ax2.transData,\n",
    "                      xyB=(x, y), coordsB=ax1.transData)\n",
    "con.set_color([0, 0, 0])\n",
    "ax2.add_artist(con)\n",
    "con.set_linewidth(LINE_WIDTH)"
   ]
  },
  {
   "cell_type": "markdown",
   "metadata": {},
   "source": [
    "### ■ 상자 수염 그래프\n",
    "### 1) 특징\n",
    "#### ● 다섯 숫자 요약으로 그린, 자료의 특성을 요약하는 그래프\n",
    "#### ● 상자 그림, 상자-수염 그림, 상자 도표 등으로 불림\n",
    "### 2) 요소\n",
    "#### ● outlier : upper, lower whisker 바깥 영역을 의미함\n",
    "#### ● upper whisker : 상자 외부 가로선으로 3사분위수 외부에 있는 1.5*IQR 내부의 최대값\n",
    "#### ● 상단 세로 점선 : 제3사분위수(75%)~100%내 존재하는 데이터\n",
    "#### ● Q3 : 제3사분위수(75%)에 해당하는 값\n",
    "#### ● Q2 : 상자 내에 있는 제2사분위수(50%)로 중앙값을 의미함\n",
    "#### ● Q1 : 제1사분위수(25%)에 해당하는 값\n",
    "#### ● 하단 세로 점선 : 제1사분위수(25%)내 존재하는 데이터\n",
    "#### ● lower whisker : 상자 외부 가로선으로 1사분위수 외부에 있는 1.5*IQR 내부의 최소값"
   ]
  },
  {
   "cell_type": "markdown",
   "metadata": {},
   "source": [
    "### [실습019] 상자 수염(사용자 정의 색상)"
   ]
  },
  {
   "cell_type": "code",
   "execution_count": null,
   "metadata": {},
   "outputs": [],
   "source": [
    "plt.rc('font', family='Malgun Gothic')\n",
    "\n",
    "myframe = pd.read_csv('C:/Users/user/Desktop/Mydata Unit/데이터시각화_소스(아이콕스)/data/tips.csv', encoding='UTF-8', index_col=0)\n",
    "\n",
    "DINNER, LUNCH = 'Dinner', 'Lunch'\n",
    "\n",
    "frame01 = myframe.loc[myframe['time'] == DINNER, 'total_bill']\n",
    "frame01.index.name = DINNER\n",
    "\n",
    "frame02 = myframe.loc[myframe['time'] == LUNCH, 'total_bill']\n",
    "frame02.index.name = LUNCH\n",
    "\n",
    "chartdata = [np.array(frame01), np.array(frame02)]\n",
    "print(chartdata)"
   ]
  },
  {
   "cell_type": "code",
   "execution_count": null,
   "metadata": {},
   "outputs": [],
   "source": [
    "###Rectangular box plot\n",
    "xtick_label = [DINNER, LUNCH]   ###x축을 위한 레이블\n",
    "fig, (ax1, ax2) = plt.subplots(nrows=1, ncols=2, figsize=(9,4))\n",
    "\n",
    "bplot1 = ax1.boxplot(chartdata,\n",
    "                    vert=True,   ###vertical box alignment\n",
    "                    patch_artist=True,   ###fill with color\n",
    "                    labels=xtick_label)   ###will be used to label x-ticks\n",
    "ax1.set_title('Rectangular box plot')\n",
    "\n",
    "###notch shape box plot\n",
    "bplot2 = ax2.boxplot(chartdata,\n",
    "                    notch=True,   ###notch shape\n",
    "                    vert=True,   ###vertical box alignment\n",
    "                    patch_artist=True,   ###fill with color\n",
    "                    labels=xtick_label)   ###will be used to label x-ticks\n",
    "ax2.set_title('Notched box plot')\n",
    "\n",
    "colors = ['pink', 'lightblue']\n",
    "for bplot in (bplot1, bplot2):\n",
    "    for patch, color in zip(bplot['boxes'], colors):\n",
    "        patch.set_facecolor(color)\n",
    "\n",
    "for ax in [ax1, ax2]:\n",
    "    ax.yaxis.grid(True)\n",
    "    ax.set_xlabel('점심과 저녁 팁')\n",
    "    ax.set_ylabel('observed data')\n",
    "\n",
    "plt.show()"
   ]
  },
  {
   "cell_type": "markdown",
   "metadata": {},
   "source": [
    "### [실습020] 상자 수염과 바이올린 그래프"
   ]
  },
  {
   "cell_type": "code",
   "execution_count": null,
   "metadata": {},
   "outputs": [],
   "source": [
    "plt.rc('font', family='Malgun Gothic')\n",
    "fig, axs = plt.subplots(nrows=1, ncols=2, figsize=(9,4))\n",
    "\n",
    "DINNER, LUNCH = 'Dinner', 'Lunch'\n",
    "\n",
    "frame01 = myframe.loc[myframe['time'] == DINNER, 'total_bill']\n",
    "frame01.index.name = DINNER\n",
    "\n",
    "frame02 = myframe.loc[myframe['time'] == LUNCH, 'total_bill']\n",
    "frame02.index.name = LUNCH\n",
    "\n",
    "chartdata = [np.array(frame01), np.array(frame02)]\n",
    "\n",
    "axs[0].violinplot(chartdata,\n",
    "                 showmeans = False,\n",
    "                 showmedians = True)\n",
    "axs[1].boxplot(chartdata)\n",
    "axs[1].set_title('Box plot')\n",
    "\n",
    "for ax in axs:\n",
    "    ax.yaxis.grid(True)\n",
    "    ax.set_xticks([y + 1 for y in range(len(chartdata))])\n",
    "    ax.set_xlabel('점심과 저녁 팁')\n",
    "    ax.set_ylabel('observed data')\n",
    "\n",
    "plt.setp(axs, xticks = [y + 1 for y in range(len(chartdata))],\n",
    "       xticklabels = [DINNER, LUNCH])\n",
    "\n",
    "plt.show()"
   ]
  },
  {
   "cell_type": "markdown",
   "metadata": {},
   "source": [
    "### ■ 히스토그램\n",
    "### 1) 특징\n",
    "#### ● 특정 데이터의 빈도 수를 막대 모양으로 표시한 그래프\n",
    "#### ● 가로 축에는 계급, 세로 축에는 해당 도수 또는 비율 지정\n",
    "#### ● 도수 분포표와 히스토그램은 가장 많이 사용되는 통계 분석 도구로써, 데이터의 특성 및 분포를 파악하는 역할을 함"
   ]
  },
  {
   "cell_type": "markdown",
   "metadata": {},
   "source": [
    "### [실습021] 남자들의 신장"
   ]
  },
  {
   "cell_type": "code",
   "execution_count": null,
   "metadata": {},
   "outputs": [],
   "source": [
    "human = pd.read_csv('C:/Users/user/Desktop/Mydata Unit/데이터시각화_소스(아이콕스)/data/human_height.csv', encoding='UTF-8')\n",
    "\n",
    "man = human['man']\n",
    "woman = human['woman']\n",
    "num_bins = 50\n",
    "\n",
    "print(man.describe())\n",
    "print(woman.describe())"
   ]
  },
  {
   "cell_type": "code",
   "execution_count": null,
   "metadata": {},
   "outputs": [],
   "source": [
    "plt.rc('font', family='Malgun Gothic')\n",
    "plt.figure(figsize=(8,6))\n",
    "\n",
    "plt.hist(man, bins=num_bins, alpha=0.7, facecolor='blue', label=\"남자\", rwidth=0.9)\n",
    "plt.xlabel(\"키\", size=14)\n",
    "plt.ylabel(\"빈도 수\", size=14)\n",
    "plt.title(\"단일 histogram\")\n",
    "plt.legend(loc='upper right')\n",
    "plt.grid(axis='y', alpha=0.75)\n",
    "\n",
    "plt.show()"
   ]
  },
  {
   "cell_type": "markdown",
   "metadata": {},
   "source": [
    "### [실습022] 남자와 여자의 다중 히스토그램 그리기"
   ]
  },
  {
   "cell_type": "code",
   "execution_count": null,
   "metadata": {},
   "outputs": [],
   "source": [
    "plt.rc('font', family='Malgun Gothic')\n",
    "plt.figure(figsize=(8,6))\n",
    "\n",
    "plt.hist(man, bins=num_bins, alpha=0.5, label=\"남자\")\n",
    "plt.hist(woman, bins=num_bins, alpha=0.5, label=\"여자\")\n",
    "\n",
    "plt.xlabel(\"키\", size=14)\n",
    "plt.ylabel(\"빈도 수\", size=14)\n",
    "plt.title(\"다중 histogram 그래프\")\n",
    "plt.legend(loc='upper right')\n",
    "plt.grid(axis='y', alpha=0.75)\n",
    "\n",
    "plt.show()"
   ]
  },
  {
   "cell_type": "markdown",
   "metadata": {},
   "source": [
    "### [실습023] 총 결재 금액"
   ]
  },
  {
   "cell_type": "code",
   "execution_count": null,
   "metadata": {},
   "outputs": [],
   "source": [
    "tips = pd.read_csv('C:/Users/user/Desktop/Mydata Unit/데이터시각화_소스(아이콕스)/data/tips.csv', encoding='UTF-8')\n",
    "num_bins = 30\n",
    "\n",
    "plt.rc('font', family='Malgun Gothic')\n",
    "fig, ax = plt.subplots()\n",
    "\n",
    "x = tips['total_bill']\n",
    "print(x)\n",
    "\n",
    "n, bins, patches = ax.hist(x, num_bins, density=True)\n",
    "ax.set_title('Histogram of Total Bill')\n",
    "ax.set_xlabel('Frequency')\n",
    "ax.set_ylabel('Total Bill')\n",
    "\n",
    "mu = x.mean()\n",
    "print('mu :', mu)\n",
    "\n",
    "sigma = x.std()\n",
    "print('sigma :', sigma)\n",
    "\n",
    "y = ((1 / (np.sqrt(2 * np.pi) * sigma)) *\n",
    "     np.exp(-0.5 * (1 / sigma * (bins - mu))**2))\n",
    "ax.plot(bins, y, '--')\n",
    "     \n",
    "plt.show() "
   ]
  },
  {
   "cell_type": "markdown",
   "metadata": {},
   "source": [
    "### [실습024] 거인국과 소인국의 신장 히스토그램"
   ]
  },
  {
   "cell_type": "code",
   "execution_count": null,
   "metadata": {},
   "outputs": [],
   "source": [
    "human = pd.read_csv('C:/Users/user/Desktop/Mydata Unit/데이터시각화_소스(아이콕스)/data/human_height.csv', encoding='UTF-8')\n",
    "\n",
    "giant = human['giant']\n",
    "dwarf = human['dwarf']\n",
    "\n",
    "plt.rc('font', family='Malgun Gothic')\n",
    "fig, axes = plt.subplots(nrows=1, ncols=2)\n",
    "\n",
    "axes[0].hist(giant, range=(210,290), bins=20, alpha=0.6)\n",
    "axes[1].hist(dwarf, range=(100,180), bins=20, alpha=0.6)\n",
    "\n",
    "axes[0].set_title('거인국의 키(height)')\n",
    "axes[1].set_title('소인국의 키(height)')\n",
    "\n",
    "plt.show()"
   ]
  },
  {
   "cell_type": "markdown",
   "metadata": {},
   "source": [
    "### [실습025] 거인국과 소인국의 히스토그램을 동일 화면에 그리기"
   ]
  },
  {
   "cell_type": "code",
   "execution_count": null,
   "metadata": {},
   "outputs": [],
   "source": [
    "fig, axes = plt.subplots()\n",
    "\n",
    "axes.hist(giant, bins=20, alpha=0.6)\n",
    "axes.hist(dwarf, bins=20, alpha=0.6)\n",
    "\n",
    "plt.show()"
   ]
  },
  {
   "cell_type": "markdown",
   "metadata": {},
   "source": [
    "### [실습026] 히스토그램의 누적"
   ]
  },
  {
   "cell_type": "code",
   "execution_count": null,
   "metadata": {},
   "outputs": [],
   "source": [
    "man = human['man']\n",
    "woman = human['woman']\n",
    "num_bins = 20\n",
    "\n",
    "x = np.array([man, woman]).T\n",
    "print(x)\n",
    "print(x.shape)"
   ]
  },
  {
   "cell_type": "code",
   "execution_count": null,
   "metadata": {},
   "outputs": [],
   "source": [
    "fig, axes = plt.subplots()\n",
    "\n",
    "axes.hist(x, bins=num_bins, density=False, histtype='bar', stacked=True)\n",
    "axes.set_title('누적 히스토그램')\n",
    "\n",
    "plt.show()"
   ]
  }
 ],
 "metadata": {
  "kernelspec": {
   "display_name": "Python 3",
   "language": "python",
   "name": "python3"
  },
  "language_info": {
   "codemirror_mode": {
    "name": "ipython",
    "version": 3
   },
   "file_extension": ".py",
   "mimetype": "text/x-python",
   "name": "python",
   "nbconvert_exporter": "python",
   "pygments_lexer": "ipython3",
   "version": "3.7.3"
  }
 },
 "nbformat": 4,
 "nbformat_minor": 4
}
